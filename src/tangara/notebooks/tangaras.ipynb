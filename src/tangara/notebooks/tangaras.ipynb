{
 "cells": [
  {
   "cell_type": "code",
   "execution_count": 1,
   "metadata": {
    "ExecuteTime": {
     "end_time": "2024-09-10T15:21:38.738522Z",
     "start_time": "2024-09-10T15:21:38.142268Z"
    },
    "execution": {
     "iopub.execute_input": "2024-09-20T23:20:03.392933Z",
     "iopub.status.busy": "2024-09-20T23:20:03.392405Z",
     "iopub.status.idle": "2024-09-20T23:20:03.670755Z",
     "shell.execute_reply": "2024-09-20T23:20:03.670109Z"
    }
   },
   "outputs": [],
   "source": [
    "import os\n",
    "\n",
    "from dotenv import load_dotenv\n",
    "\n",
    "# Explicitly providing path to '.env'\n",
    "from pathlib import Path  # Python 3.6+ only\n",
    "# Load .env variables\n",
    "_ = load_dotenv(dotenv_path=f\"{Path().resolve().parents[0]}/.env\")\n",
    "\n",
    "# with the new api\n",
    "from importnb import imports\n",
    "with imports(\"ipynb\"):\n",
    "    from utils import to_timestamp, df_tangara_sensors, df_to_csv, to_file_name"
   ]
  },
  {
   "cell_type": "markdown",
   "metadata": {},
   "source": [
    "## Tangara Sensors"
   ]
  },
  {
   "cell_type": "code",
   "execution_count": 2,
   "metadata": {
    "ExecuteTime": {
     "end_time": "2024-09-10T15:21:38.749622Z",
     "start_time": "2024-09-10T15:21:38.742347Z"
    },
    "execution": {
     "iopub.execute_input": "2024-09-20T23:20:03.672484Z",
     "iopub.status.busy": "2024-09-20T23:20:03.672233Z",
     "iopub.status.idle": "2024-09-20T23:20:03.677166Z",
     "shell.execute_reply": "2024-09-20T23:20:03.676872Z"
    }
   },
   "outputs": [
    {
     "name": "stderr",
     "output_type": "stream",
     "text": [
      "\u001b[32m2024-09-20 18:20:03.673\u001b[0m | \u001b[34m\u001b[1mDEBUG   \u001b[0m | \u001b[36mutils\u001b[0m:\u001b[36mto_timestamp\u001b[0m:\u001b[36m79\u001b[0m - \u001b[34m\u001b[1mRun to_timestamp:\u001b[0m\n"
     ]
    },
    {
     "name": "stderr",
     "output_type": "stream",
     "text": [
      "\u001b[32m2024-09-20 18:20:03.673\u001b[0m | \u001b[34m\u001b[1mDEBUG   \u001b[0m | \u001b[36mutils\u001b[0m:\u001b[36mto_timestamp\u001b[0m:\u001b[36m80\u001b[0m - \u001b[34m\u001b[1mdatetime_iso8601: 2024-08-01T00:00:00-05:00, Timestamp: 1722488400000\u001b[0m\n"
     ]
    },
    {
     "name": "stderr",
     "output_type": "stream",
     "text": [
      "\u001b[32m2024-09-20 18:20:03.674\u001b[0m | \u001b[34m\u001b[1mDEBUG   \u001b[0m | \u001b[36mutils\u001b[0m:\u001b[36mto_timestamp\u001b[0m:\u001b[36m79\u001b[0m - \u001b[34m\u001b[1mRun to_timestamp:\u001b[0m\n"
     ]
    },
    {
     "name": "stderr",
     "output_type": "stream",
     "text": [
      "\u001b[32m2024-09-20 18:20:03.675\u001b[0m | \u001b[34m\u001b[1mDEBUG   \u001b[0m | \u001b[36mutils\u001b[0m:\u001b[36mto_timestamp\u001b[0m:\u001b[36m80\u001b[0m - \u001b[34m\u001b[1mdatetime_iso8601: 2024-08-31T23:59:59-05:00, Timestamp: 1725166799000\u001b[0m\n"
     ]
    },
    {
     "name": "stdout",
     "output_type": "stream",
     "text": [
      "Since: 2024-08-01T00:00:00-05:00 -> 1722488400000, Until: 2024-08-31T23:59:59-05:00 -> 1725166799000\n"
     ]
    }
   ],
   "source": [
    "# Start Date Time ISO 8601 Format, TZ='America/Bogota' -05:00\n",
    "START_ISO8601_DATETIME=os.getenv(\"START_ISO8601_DATETIME\", None)\n",
    "start_timestamp = to_timestamp(START_ISO8601_DATETIME)\n",
    "# End Date Time ISO 8601 Format, TZ='America/Bogota' -05:00\n",
    "END_ISO8601_DATETIME=os.getenv(\"END_ISO8601_DATETIME\", None)\n",
    "end_timestamp = to_timestamp(os.getenv(\"END_ISO8601_DATETIME\", None))\n",
    "\n",
    "print(f'Since: {START_ISO8601_DATETIME} -> {start_timestamp}, Until: {END_ISO8601_DATETIME} -> {end_timestamp}')"
   ]
  },
  {
   "cell_type": "code",
   "execution_count": 3,
   "metadata": {
    "ExecuteTime": {
     "end_time": "2024-09-10T15:21:44.931540Z",
     "start_time": "2024-09-10T15:21:38.951838Z"
    },
    "execution": {
     "iopub.execute_input": "2024-09-20T23:20:03.690277Z",
     "iopub.status.busy": "2024-09-20T23:20:03.690069Z",
     "iopub.status.idle": "2024-09-20T23:20:09.343227Z",
     "shell.execute_reply": "2024-09-20T23:20:09.342825Z"
    }
   },
   "outputs": [
    {
     "name": "stderr",
     "output_type": "stream",
     "text": [
      "\u001b[32m2024-09-20 18:20:03.690\u001b[0m | \u001b[34m\u001b[1mDEBUG   \u001b[0m | \u001b[36mutils\u001b[0m:\u001b[36mquery_tangaras\u001b[0m:\u001b[36m150\u001b[0m - \u001b[34m\u001b[1mRun query_tangaras:\u001b[0m\n"
     ]
    },
    {
     "name": "stderr",
     "output_type": "stream",
     "text": [
      "\u001b[32m2024-09-20 18:20:03.691\u001b[0m | \u001b[34m\u001b[1mDEBUG   \u001b[0m | \u001b[36mutils\u001b[0m:\u001b[36mquery_tangaras\u001b[0m:\u001b[36m151\u001b[0m - \u001b[34m\u001b[1msql_query: SELECT DISTINCT(geo) AS \"geohash\" FROM \"fixed_stations_01\" WHERE (\"geo3\" = 'd29') AND time >= 1722488400000ms AND time <= 1725166799000ms GROUP BY \"name\";\u001b[0m\n"
     ]
    },
    {
     "name": "stderr",
     "output_type": "stream",
     "text": [
      "\u001b[32m2024-09-20 18:20:09.283\u001b[0m | \u001b[34m\u001b[1mDEBUG   \u001b[0m | \u001b[36mutils\u001b[0m:\u001b[36mrequest_influxdb\u001b[0m:\u001b[36m118\u001b[0m - \u001b[34m\u001b[1mRun request_influxdb:\u001b[0m\n"
     ]
    },
    {
     "name": "stderr",
     "output_type": "stream",
     "text": [
      "\u001b[32m2024-09-20 18:20:09.287\u001b[0m | \u001b[34m\u001b[1mDEBUG   \u001b[0m | \u001b[36mutils\u001b[0m:\u001b[36mrequest_influxdb\u001b[0m:\u001b[36m119\u001b[0m - \u001b[34m\u001b[1mresponse: <Response [200]>\u001b[0m\n"
     ]
    },
    {
     "name": "stderr",
     "output_type": "stream",
     "text": [
      "\u001b[32m2024-09-20 18:20:09.334\u001b[0m | \u001b[34m\u001b[1mDEBUG   \u001b[0m | \u001b[36mutils\u001b[0m:\u001b[36mdf_tangara_sensors\u001b[0m:\u001b[36m337\u001b[0m - \u001b[34m\u001b[1mRun df_tangara_sensors:\u001b[0m\n"
     ]
    },
    {
     "name": "stderr",
     "output_type": "stream",
     "text": [
      "\u001b[32m2024-09-20 18:20:09.335\u001b[0m | \u001b[34m\u001b[1mDEBUG   \u001b[0m | \u001b[36mutils\u001b[0m:\u001b[36mdf_tangara_sensors\u001b[0m:\u001b[36m338\u001b[0m - \u001b[34m\u001b[1mData Frame Tangaras Sensors: <class 'pandas.core.frame.DataFrame'>\n",
      "Index: 44 entries, TANGARA_B7BE to TANGARA_06BE\n",
      "Data columns (total 5 columns):\n",
      " #   Column       Non-Null Count  Dtype \n",
      "---  ------       --------------  ----- \n",
      " 0   GEOHASH      44 non-null     object\n",
      " 1   MAC          44 non-null     object\n",
      " 2   GEOLOCATION  44 non-null     object\n",
      " 3   LATITUDE     44 non-null     object\n",
      " 4   LONGITUDE    44 non-null     object\n",
      "dtypes: object(5)\n",
      "memory usage: 2.1+ KB\n",
      "\u001b[0m\n"
     ]
    },
    {
     "name": "stdout",
     "output_type": "stream",
     "text": [
      "Period of Time: Since: 2024-08-01T00:00:00-05:00, Until: 2024-08-31T23:59:59-05:00\n",
      "Total Tangara Sensors: 38\n"
     ]
    },
    {
     "data": {
      "text/html": [
       "<div>\n",
       "<style scoped>\n",
       "    .dataframe tbody tr th:only-of-type {\n",
       "        vertical-align: middle;\n",
       "    }\n",
       "\n",
       "    .dataframe tbody tr th {\n",
       "        vertical-align: top;\n",
       "    }\n",
       "\n",
       "    .dataframe thead th {\n",
       "        text-align: right;\n",
       "    }\n",
       "</style>\n",
       "<table border=\"1\" class=\"dataframe\">\n",
       "  <thead>\n",
       "    <tr style=\"text-align: right;\">\n",
       "      <th></th>\n",
       "      <th>GEOHASH</th>\n",
       "      <th>MAC</th>\n",
       "      <th>GEOLOCATION</th>\n",
       "      <th>LATITUDE</th>\n",
       "      <th>LONGITUDE</th>\n",
       "    </tr>\n",
       "    <tr>\n",
       "      <th>ID</th>\n",
       "      <th></th>\n",
       "      <th></th>\n",
       "      <th></th>\n",
       "      <th></th>\n",
       "      <th></th>\n",
       "    </tr>\n",
       "  </thead>\n",
       "  <tbody>\n",
       "    <tr>\n",
       "      <th>TANGARA_B7BE</th>\n",
       "      <td>d29e6de</td>\n",
       "      <td>D29ESP32DE0B7BE</td>\n",
       "      <td>3.3982086181640625 -76.52595520019531</td>\n",
       "      <td>3.3982086181640625</td>\n",
       "      <td>-76.52595520019531</td>\n",
       "    </tr>\n",
       "    <tr>\n",
       "      <th>TANGARA_C752</th>\n",
       "      <td>d29e6de</td>\n",
       "      <td>D29ESP32DE0C752</td>\n",
       "      <td>3.3982086181640625 -76.52595520019531</td>\n",
       "      <td>3.3982086181640625</td>\n",
       "      <td>-76.52595520019531</td>\n",
       "    </tr>\n",
       "    <tr>\n",
       "      <th>TANGARA_A682</th>\n",
       "      <td>d29e6de</td>\n",
       "      <td>D29ESP32DE3A682</td>\n",
       "      <td>3.3982086181640625 -76.52595520019531</td>\n",
       "      <td>3.3982086181640625</td>\n",
       "      <td>-76.52595520019531</td>\n",
       "    </tr>\n",
       "    <tr>\n",
       "      <th>TANGARA_ADD6</th>\n",
       "      <td>d29e6de</td>\n",
       "      <td>D29ESP32DE3ADD6</td>\n",
       "      <td>3.3982086181640625 -76.52595520019531</td>\n",
       "      <td>3.3982086181640625</td>\n",
       "      <td>-76.52595520019531</td>\n",
       "    </tr>\n",
       "    <tr>\n",
       "      <th>TANGARA_B9CA</th>\n",
       "      <td>d29e6de</td>\n",
       "      <td>D29ESP32DE3B9CA</td>\n",
       "      <td>3.3982086181640625 -76.52595520019531</td>\n",
       "      <td>3.3982086181640625</td>\n",
       "      <td>-76.52595520019531</td>\n",
       "    </tr>\n",
       "    <tr>\n",
       "      <th>TANGARA_BC5A</th>\n",
       "      <td>d29e6de</td>\n",
       "      <td>D29ESP32DE3BC5A</td>\n",
       "      <td>3.3982086181640625 -76.52595520019531</td>\n",
       "      <td>3.3982086181640625</td>\n",
       "      <td>-76.52595520019531</td>\n",
       "    </tr>\n",
       "    <tr>\n",
       "      <th>TANGARA_BCC6</th>\n",
       "      <td>d29e6de</td>\n",
       "      <td>D29ESP32DE3BCC6</td>\n",
       "      <td>3.3982086181640625 -76.52595520019531</td>\n",
       "      <td>3.3982086181640625</td>\n",
       "      <td>-76.52595520019531</td>\n",
       "    </tr>\n",
       "    <tr>\n",
       "      <th>TANGARA_BD5E</th>\n",
       "      <td>d29e6de</td>\n",
       "      <td>D29ESP32DE3BD5E</td>\n",
       "      <td>3.3982086181640625 -76.52595520019531</td>\n",
       "      <td>3.3982086181640625</td>\n",
       "      <td>-76.52595520019531</td>\n",
       "    </tr>\n",
       "    <tr>\n",
       "      <th>TANGARA_BE12</th>\n",
       "      <td>d29e6de</td>\n",
       "      <td>D29ESP32DE3BE12</td>\n",
       "      <td>3.3982086181640625 -76.52595520019531</td>\n",
       "      <td>3.3982086181640625</td>\n",
       "      <td>-76.52595520019531</td>\n",
       "    </tr>\n",
       "    <tr>\n",
       "      <th>TANGARA_2BDE</th>\n",
       "      <td>d29efb4</td>\n",
       "      <td>D29ESP32DE52BDE</td>\n",
       "      <td>3.4723663330078125 -76.51634216308594</td>\n",
       "      <td>3.4723663330078125</td>\n",
       "      <td>-76.51634216308594</td>\n",
       "    </tr>\n",
       "    <tr>\n",
       "      <th>TANGARA_3B7E</th>\n",
       "      <td>d29ee40</td>\n",
       "      <td>D29ESP32DE53B7E</td>\n",
       "      <td>3.4394073486328125 -76.50810241699219</td>\n",
       "      <td>3.4394073486328125</td>\n",
       "      <td>-76.50810241699219</td>\n",
       "    </tr>\n",
       "    <tr>\n",
       "      <th>TANGARA_421A</th>\n",
       "      <td>d29egkt</td>\n",
       "      <td>D29ESP32DE5421A</td>\n",
       "      <td>3.4970855712890625 -76.49024963378906</td>\n",
       "      <td>3.4970855712890625</td>\n",
       "      <td>-76.49024963378906</td>\n",
       "    </tr>\n",
       "    <tr>\n",
       "      <th>TANGARA_79CA</th>\n",
       "      <td>d29e6de</td>\n",
       "      <td>D29ESP32DE679CA</td>\n",
       "      <td>3.3982086181640625 -76.52595520019531</td>\n",
       "      <td>3.3982086181640625</td>\n",
       "      <td>-76.52595520019531</td>\n",
       "    </tr>\n",
       "    <tr>\n",
       "      <th>TANGARA_1402</th>\n",
       "      <td>d29e6de</td>\n",
       "      <td>D29ESP32DE71402</td>\n",
       "      <td>3.3982086181640625 -76.52595520019531</td>\n",
       "      <td>3.3982086181640625</td>\n",
       "      <td>-76.52595520019531</td>\n",
       "    </tr>\n",
       "    <tr>\n",
       "      <th>TANGARA_157E</th>\n",
       "      <td>d29e6de</td>\n",
       "      <td>D29ESP32DE7157E</td>\n",
       "      <td>3.3982086181640625 -76.52595520019531</td>\n",
       "      <td>3.3982086181640625</td>\n",
       "      <td>-76.52595520019531</td>\n",
       "    </tr>\n",
       "    <tr>\n",
       "      <th>TANGARA_1DE2</th>\n",
       "      <td>d29e6de</td>\n",
       "      <td>D29ESP32DE71DE2</td>\n",
       "      <td>3.3982086181640625 -76.52595520019531</td>\n",
       "      <td>3.3982086181640625</td>\n",
       "      <td>-76.52595520019531</td>\n",
       "    </tr>\n",
       "    <tr>\n",
       "      <th>TANGARA_298A</th>\n",
       "      <td>d29e6de</td>\n",
       "      <td>D29ESP32DE7298A</td>\n",
       "      <td>3.3982086181640625 -76.52595520019531</td>\n",
       "      <td>3.3982086181640625</td>\n",
       "      <td>-76.52595520019531</td>\n",
       "    </tr>\n",
       "    <tr>\n",
       "      <th>TANGARA_3376</th>\n",
       "      <td>d29e6de</td>\n",
       "      <td>D29ESP32DE73376</td>\n",
       "      <td>3.3982086181640625 -76.52595520019531</td>\n",
       "      <td>3.3982086181640625</td>\n",
       "      <td>-76.52595520019531</td>\n",
       "    </tr>\n",
       "    <tr>\n",
       "      <th>TANGARA_5636</th>\n",
       "      <td>d29e7tv</td>\n",
       "      <td>D29ESP32DE85636</td>\n",
       "      <td>3.4160614013671875 -76.47926330566406</td>\n",
       "      <td>3.4160614013671875</td>\n",
       "      <td>-76.47926330566406</td>\n",
       "    </tr>\n",
       "    <tr>\n",
       "      <th>TANGARA_D282</th>\n",
       "      <td>d29e6fj</td>\n",
       "      <td>D29ESP32DE8D282</td>\n",
       "      <td>3.3954620361328125 -76.51222229003906</td>\n",
       "      <td>3.3954620361328125</td>\n",
       "      <td>-76.51222229003906</td>\n",
       "    </tr>\n",
       "    <tr>\n",
       "      <th>TANGARA_4B1A</th>\n",
       "      <td>d29esj8</td>\n",
       "      <td>D29ESP32DE94B1A</td>\n",
       "      <td>3.4586334228515625 -76.46415710449219</td>\n",
       "      <td>3.4586334228515625</td>\n",
       "      <td>-76.46415710449219</td>\n",
       "    </tr>\n",
       "    <tr>\n",
       "      <th>TANGARA_1106</th>\n",
       "      <td>d29edzu</td>\n",
       "      <td>D29ESP32DEC1106</td>\n",
       "      <td>3.4709930419921875 -76.51359558105469</td>\n",
       "      <td>3.4709930419921875</td>\n",
       "      <td>-76.51359558105469</td>\n",
       "    </tr>\n",
       "    <tr>\n",
       "      <th>TANGARA_1282</th>\n",
       "      <td>d29edvt</td>\n",
       "      <td>D29ESP32DED1282</td>\n",
       "      <td>3.4586334228515625 -76.51222229003906</td>\n",
       "      <td>3.4586334228515625</td>\n",
       "      <td>-76.51222229003906</td>\n",
       "    </tr>\n",
       "    <tr>\n",
       "      <th>TANGARA_14D6</th>\n",
       "      <td>d29eg4k</td>\n",
       "      <td>D29ESP32DED14D6</td>\n",
       "      <td>3.4847259521484375 -76.50260925292969</td>\n",
       "      <td>3.4847259521484375</td>\n",
       "      <td>-76.50260925292969</td>\n",
       "    </tr>\n",
       "    <tr>\n",
       "      <th>TANGARA_1A1E</th>\n",
       "      <td>d29e7qm</td>\n",
       "      <td>D29ESP32DED1A1E</td>\n",
       "      <td>3.4188079833984375 -76.49024963378906</td>\n",
       "      <td>3.4188079833984375</td>\n",
       "      <td>-76.49024963378906</td>\n",
       "    </tr>\n",
       "    <tr>\n",
       "      <th>TANGARA_2492</th>\n",
       "      <td>d29e4y4</td>\n",
       "      <td>D29ESP32DED2492</td>\n",
       "      <td>3.3734893798828125 -76.51634216308594</td>\n",
       "      <td>3.3734893798828125</td>\n",
       "      <td>-76.51634216308594</td>\n",
       "    </tr>\n",
       "    <tr>\n",
       "      <th>TANGARA_2E9A</th>\n",
       "      <td>d29ed62</td>\n",
       "      <td>D29ESP32DED2E9A</td>\n",
       "      <td>3.4407806396484375 -76.54106140136719</td>\n",
       "      <td>3.4407806396484375</td>\n",
       "      <td>-76.54106140136719</td>\n",
       "    </tr>\n",
       "    <tr>\n",
       "      <th>TANGARA_2FF6</th>\n",
       "      <td>d29e66v</td>\n",
       "      <td>D29ESP32DED2FF6</td>\n",
       "      <td>3.3995819091796875 -76.53419494628906</td>\n",
       "      <td>3.3995819091796875</td>\n",
       "      <td>-76.53419494628906</td>\n",
       "    </tr>\n",
       "    <tr>\n",
       "      <th>TANGARA_307A</th>\n",
       "      <td>d29e48s</td>\n",
       "      <td>D29ESP32DED307A</td>\n",
       "      <td>3.3432769775390625 -76.52458190917969</td>\n",
       "      <td>3.3432769775390625</td>\n",
       "      <td>-76.52458190917969</td>\n",
       "    </tr>\n",
       "    <tr>\n",
       "      <th>TANGARA_3782</th>\n",
       "      <td>d29eddn</td>\n",
       "      <td>D29ESP32DED3782</td>\n",
       "      <td>3.4394073486328125 -76.52183532714844</td>\n",
       "      <td>3.4394073486328125</td>\n",
       "      <td>-76.52183532714844</td>\n",
       "    </tr>\n",
       "    <tr>\n",
       "      <th>TANGARA_F212</th>\n",
       "      <td>d29ed9s</td>\n",
       "      <td>D29ESP32DEDF212</td>\n",
       "      <td>3.4366607666015625 -76.52458190917969</td>\n",
       "      <td>3.4366607666015625</td>\n",
       "      <td>-76.52458190917969</td>\n",
       "    </tr>\n",
       "    <tr>\n",
       "      <th>TANGARA_1712</th>\n",
       "      <td>d29dfx4</td>\n",
       "      <td>D29ESP32DEE1712</td>\n",
       "      <td>3.3350372314453125 -76.52732849121094</td>\n",
       "      <td>3.3350372314453125</td>\n",
       "      <td>-76.52732849121094</td>\n",
       "    </tr>\n",
       "    <tr>\n",
       "      <th>TANGARA_A43A</th>\n",
       "      <td>d29e6de</td>\n",
       "      <td>D29ESP32DEFA43A</td>\n",
       "      <td>3.3982086181640625 -76.52595520019531</td>\n",
       "      <td>3.3982086181640625</td>\n",
       "      <td>-76.52595520019531</td>\n",
       "    </tr>\n",
       "    <tr>\n",
       "      <th>TANGARA_C17E</th>\n",
       "      <td>d29e6de</td>\n",
       "      <td>D29ESP32DEFC17E</td>\n",
       "      <td>3.3982086181640625 -76.52595520019531</td>\n",
       "      <td>3.3982086181640625</td>\n",
       "      <td>-76.52595520019531</td>\n",
       "    </tr>\n",
       "    <tr>\n",
       "      <th>TANGARA_CA62</th>\n",
       "      <td>d29e6de</td>\n",
       "      <td>D29ESP32DEFCA62</td>\n",
       "      <td>3.3982086181640625 -76.52595520019531</td>\n",
       "      <td>3.3982086181640625</td>\n",
       "      <td>-76.52595520019531</td>\n",
       "    </tr>\n",
       "    <tr>\n",
       "      <th>TANGARA_532E</th>\n",
       "      <td>d29ed74</td>\n",
       "      <td>D29TTGOT7D532E</td>\n",
       "      <td>3.4449005126953125 -76.53831481933594</td>\n",
       "      <td>3.4449005126953125</td>\n",
       "      <td>-76.53831481933594</td>\n",
       "    </tr>\n",
       "    <tr>\n",
       "      <th>TANGARA_F1AE</th>\n",
       "      <td>d29eg69</td>\n",
       "      <td>D29TTGOTD8F1AE</td>\n",
       "      <td>3.4860992431640625 -76.49574279785156</td>\n",
       "      <td>3.4860992431640625</td>\n",
       "      <td>-76.49574279785156</td>\n",
       "    </tr>\n",
       "    <tr>\n",
       "      <th>TANGARA_06BE</th>\n",
       "      <td>d29e6de</td>\n",
       "      <td>D29TTGOTD906BE</td>\n",
       "      <td>3.3982086181640625 -76.52595520019531</td>\n",
       "      <td>3.3982086181640625</td>\n",
       "      <td>-76.52595520019531</td>\n",
       "    </tr>\n",
       "  </tbody>\n",
       "</table>\n",
       "</div>"
      ],
      "text/plain": [
       "              GEOHASH              MAC                            GEOLOCATION  \\\n",
       "ID                                                                              \n",
       "TANGARA_B7BE  d29e6de  D29ESP32DE0B7BE  3.3982086181640625 -76.52595520019531   \n",
       "TANGARA_C752  d29e6de  D29ESP32DE0C752  3.3982086181640625 -76.52595520019531   \n",
       "TANGARA_A682  d29e6de  D29ESP32DE3A682  3.3982086181640625 -76.52595520019531   \n",
       "TANGARA_ADD6  d29e6de  D29ESP32DE3ADD6  3.3982086181640625 -76.52595520019531   \n",
       "TANGARA_B9CA  d29e6de  D29ESP32DE3B9CA  3.3982086181640625 -76.52595520019531   \n",
       "TANGARA_BC5A  d29e6de  D29ESP32DE3BC5A  3.3982086181640625 -76.52595520019531   \n",
       "TANGARA_BCC6  d29e6de  D29ESP32DE3BCC6  3.3982086181640625 -76.52595520019531   \n",
       "TANGARA_BD5E  d29e6de  D29ESP32DE3BD5E  3.3982086181640625 -76.52595520019531   \n",
       "TANGARA_BE12  d29e6de  D29ESP32DE3BE12  3.3982086181640625 -76.52595520019531   \n",
       "TANGARA_2BDE  d29efb4  D29ESP32DE52BDE  3.4723663330078125 -76.51634216308594   \n",
       "TANGARA_3B7E  d29ee40  D29ESP32DE53B7E  3.4394073486328125 -76.50810241699219   \n",
       "TANGARA_421A  d29egkt  D29ESP32DE5421A  3.4970855712890625 -76.49024963378906   \n",
       "TANGARA_79CA  d29e6de  D29ESP32DE679CA  3.3982086181640625 -76.52595520019531   \n",
       "TANGARA_1402  d29e6de  D29ESP32DE71402  3.3982086181640625 -76.52595520019531   \n",
       "TANGARA_157E  d29e6de  D29ESP32DE7157E  3.3982086181640625 -76.52595520019531   \n",
       "TANGARA_1DE2  d29e6de  D29ESP32DE71DE2  3.3982086181640625 -76.52595520019531   \n",
       "TANGARA_298A  d29e6de  D29ESP32DE7298A  3.3982086181640625 -76.52595520019531   \n",
       "TANGARA_3376  d29e6de  D29ESP32DE73376  3.3982086181640625 -76.52595520019531   \n",
       "TANGARA_5636  d29e7tv  D29ESP32DE85636  3.4160614013671875 -76.47926330566406   \n",
       "TANGARA_D282  d29e6fj  D29ESP32DE8D282  3.3954620361328125 -76.51222229003906   \n",
       "TANGARA_4B1A  d29esj8  D29ESP32DE94B1A  3.4586334228515625 -76.46415710449219   \n",
       "TANGARA_1106  d29edzu  D29ESP32DEC1106  3.4709930419921875 -76.51359558105469   \n",
       "TANGARA_1282  d29edvt  D29ESP32DED1282  3.4586334228515625 -76.51222229003906   \n",
       "TANGARA_14D6  d29eg4k  D29ESP32DED14D6  3.4847259521484375 -76.50260925292969   \n",
       "TANGARA_1A1E  d29e7qm  D29ESP32DED1A1E  3.4188079833984375 -76.49024963378906   \n",
       "TANGARA_2492  d29e4y4  D29ESP32DED2492  3.3734893798828125 -76.51634216308594   \n",
       "TANGARA_2E9A  d29ed62  D29ESP32DED2E9A  3.4407806396484375 -76.54106140136719   \n",
       "TANGARA_2FF6  d29e66v  D29ESP32DED2FF6  3.3995819091796875 -76.53419494628906   \n",
       "TANGARA_307A  d29e48s  D29ESP32DED307A  3.3432769775390625 -76.52458190917969   \n",
       "TANGARA_3782  d29eddn  D29ESP32DED3782  3.4394073486328125 -76.52183532714844   \n",
       "TANGARA_F212  d29ed9s  D29ESP32DEDF212  3.4366607666015625 -76.52458190917969   \n",
       "TANGARA_1712  d29dfx4  D29ESP32DEE1712  3.3350372314453125 -76.52732849121094   \n",
       "TANGARA_A43A  d29e6de  D29ESP32DEFA43A  3.3982086181640625 -76.52595520019531   \n",
       "TANGARA_C17E  d29e6de  D29ESP32DEFC17E  3.3982086181640625 -76.52595520019531   \n",
       "TANGARA_CA62  d29e6de  D29ESP32DEFCA62  3.3982086181640625 -76.52595520019531   \n",
       "TANGARA_532E  d29ed74   D29TTGOT7D532E  3.4449005126953125 -76.53831481933594   \n",
       "TANGARA_F1AE  d29eg69   D29TTGOTD8F1AE  3.4860992431640625 -76.49574279785156   \n",
       "TANGARA_06BE  d29e6de   D29TTGOTD906BE  3.3982086181640625 -76.52595520019531   \n",
       "\n",
       "                        LATITUDE           LONGITUDE  \n",
       "ID                                                    \n",
       "TANGARA_B7BE  3.3982086181640625  -76.52595520019531  \n",
       "TANGARA_C752  3.3982086181640625  -76.52595520019531  \n",
       "TANGARA_A682  3.3982086181640625  -76.52595520019531  \n",
       "TANGARA_ADD6  3.3982086181640625  -76.52595520019531  \n",
       "TANGARA_B9CA  3.3982086181640625  -76.52595520019531  \n",
       "TANGARA_BC5A  3.3982086181640625  -76.52595520019531  \n",
       "TANGARA_BCC6  3.3982086181640625  -76.52595520019531  \n",
       "TANGARA_BD5E  3.3982086181640625  -76.52595520019531  \n",
       "TANGARA_BE12  3.3982086181640625  -76.52595520019531  \n",
       "TANGARA_2BDE  3.4723663330078125  -76.51634216308594  \n",
       "TANGARA_3B7E  3.4394073486328125  -76.50810241699219  \n",
       "TANGARA_421A  3.4970855712890625  -76.49024963378906  \n",
       "TANGARA_79CA  3.3982086181640625  -76.52595520019531  \n",
       "TANGARA_1402  3.3982086181640625  -76.52595520019531  \n",
       "TANGARA_157E  3.3982086181640625  -76.52595520019531  \n",
       "TANGARA_1DE2  3.3982086181640625  -76.52595520019531  \n",
       "TANGARA_298A  3.3982086181640625  -76.52595520019531  \n",
       "TANGARA_3376  3.3982086181640625  -76.52595520019531  \n",
       "TANGARA_5636  3.4160614013671875  -76.47926330566406  \n",
       "TANGARA_D282  3.3954620361328125  -76.51222229003906  \n",
       "TANGARA_4B1A  3.4586334228515625  -76.46415710449219  \n",
       "TANGARA_1106  3.4709930419921875  -76.51359558105469  \n",
       "TANGARA_1282  3.4586334228515625  -76.51222229003906  \n",
       "TANGARA_14D6  3.4847259521484375  -76.50260925292969  \n",
       "TANGARA_1A1E  3.4188079833984375  -76.49024963378906  \n",
       "TANGARA_2492  3.3734893798828125  -76.51634216308594  \n",
       "TANGARA_2E9A  3.4407806396484375  -76.54106140136719  \n",
       "TANGARA_2FF6  3.3995819091796875  -76.53419494628906  \n",
       "TANGARA_307A  3.3432769775390625  -76.52458190917969  \n",
       "TANGARA_3782  3.4394073486328125  -76.52183532714844  \n",
       "TANGARA_F212  3.4366607666015625  -76.52458190917969  \n",
       "TANGARA_1712  3.3350372314453125  -76.52732849121094  \n",
       "TANGARA_A43A  3.3982086181640625  -76.52595520019531  \n",
       "TANGARA_C17E  3.3982086181640625  -76.52595520019531  \n",
       "TANGARA_CA62  3.3982086181640625  -76.52595520019531  \n",
       "TANGARA_532E  3.4449005126953125  -76.53831481933594  \n",
       "TANGARA_F1AE  3.4860992431640625  -76.49574279785156  \n",
       "TANGARA_06BE  3.3982086181640625  -76.52595520019531  "
      ]
     },
     "execution_count": 3,
     "metadata": {},
     "output_type": "execute_result"
    }
   ],
   "source": [
    "# Data Frame Tangaras from InfluxDB\n",
    "df_tangaras = df_tangara_sensors(start_timestamp, end_timestamp)\n",
    "df_tangaras.drop_duplicates(subset=['MAC'], inplace=True)\n",
    "\n",
    "print(f\"Period of Time: Since: {START_ISO8601_DATETIME}, Until: {END_ISO8601_DATETIME}\")\n",
    "print(f\"Total Tangara Sensors: {len(df_tangaras)}\")\n",
    "\n",
    "df_tangaras"
   ]
  },
  {
   "cell_type": "code",
   "execution_count": 4,
   "metadata": {
    "ExecuteTime": {
     "end_time": "2024-09-10T15:21:45.034132Z",
     "start_time": "2024-09-10T15:21:45.027840Z"
    },
    "execution": {
     "iopub.execute_input": "2024-09-20T23:20:09.344672Z",
     "iopub.status.busy": "2024-09-20T23:20:09.344471Z",
     "iopub.status.idle": "2024-09-20T23:20:09.348931Z",
     "shell.execute_reply": "2024-09-20T23:20:09.348508Z"
    }
   },
   "outputs": [
    {
     "name": "stderr",
     "output_type": "stream",
     "text": [
      "\u001b[32m2024-09-20 18:20:09.345\u001b[0m | \u001b[34m\u001b[1mDEBUG   \u001b[0m | \u001b[36mutils\u001b[0m:\u001b[36mto_file_name\u001b[0m:\u001b[36m448\u001b[0m - \u001b[34m\u001b[1mRun to_file_name:\u001b[0m\n"
     ]
    },
    {
     "name": "stderr",
     "output_type": "stream",
     "text": [
      "\u001b[32m2024-09-20 18:20:09.346\u001b[0m | \u001b[34m\u001b[1mDEBUG   \u001b[0m | \u001b[36mutils\u001b[0m:\u001b[36mto_file_name\u001b[0m:\u001b[36m449\u001b[0m - \u001b[34m\u001b[1mFile Name: tangaras_2024-08-01_00-00-00_UTC-0500_2024-08-31_23-59-59_UTC-0500.csv\u001b[0m\n"
     ]
    },
    {
     "data": {
      "text/plain": [
       "'tangaras_2024-08-01_00-00-00_UTC-0500_2024-08-31_23-59-59_UTC-0500.csv'"
      ]
     },
     "execution_count": 4,
     "metadata": {},
     "output_type": "execute_result"
    }
   ],
   "source": [
    "file_name = to_file_name(\"tangaras\", START_ISO8601_DATETIME, END_ISO8601_DATETIME)\n",
    "file_name"
   ]
  },
  {
   "cell_type": "code",
   "execution_count": 5,
   "metadata": {
    "ExecuteTime": {
     "end_time": "2024-09-10T15:21:45.184392Z",
     "start_time": "2024-09-10T15:21:45.174760Z"
    },
    "execution": {
     "iopub.execute_input": "2024-09-20T23:20:09.350046Z",
     "iopub.status.busy": "2024-09-20T23:20:09.349872Z",
     "iopub.status.idle": "2024-09-20T23:20:09.354408Z",
     "shell.execute_reply": "2024-09-20T23:20:09.353987Z"
    }
   },
   "outputs": [
    {
     "name": "stderr",
     "output_type": "stream",
     "text": [
      "\u001b[32m2024-09-20 18:20:09.352\u001b[0m | \u001b[34m\u001b[1mDEBUG   \u001b[0m | \u001b[36mutils\u001b[0m:\u001b[36mdf_to_csv\u001b[0m:\u001b[36m228\u001b[0m - \u001b[34m\u001b[1mRun df_to_csv:\u001b[0m\n"
     ]
    },
    {
     "name": "stderr",
     "output_type": "stream",
     "text": [
      "\u001b[32m2024-09-20 18:20:09.352\u001b[0m | \u001b[34m\u001b[1mDEBUG   \u001b[0m | \u001b[36mutils\u001b[0m:\u001b[36mdf_to_csv\u001b[0m:\u001b[36m229\u001b[0m - \u001b[34m\u001b[1mSave DataFrame: /home/sebaxtian/Workspaces/Tangara/tangara-mlds-unal-2024/src/tangara/data/0_raw/tangaras_2024-08-01_00-00-00_UTC-0500_2024-08-31_23-59-59_UTC-0500.csv\u001b[0m\n"
     ]
    }
   ],
   "source": [
    "# Save Tangaras into CSV file\n",
    "df_to_csv(df_tangaras, file_name)"
   ]
  }
 ],
 "metadata": {
  "kernelspec": {
   "display_name": ".venv",
   "language": "python",
   "name": "python3"
  },
  "language_info": {
   "codemirror_mode": {
    "name": "ipython",
    "version": 3
   },
   "file_extension": ".py",
   "mimetype": "text/x-python",
   "name": "python",
   "nbconvert_exporter": "python",
   "pygments_lexer": "ipython3",
   "version": "3.10.12"
  }
 },
 "nbformat": 4,
 "nbformat_minor": 2
}
