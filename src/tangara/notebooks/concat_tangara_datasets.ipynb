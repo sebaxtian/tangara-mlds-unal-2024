{
 "cells": [
  {
   "cell_type": "code",
   "id": "initial_id",
   "metadata": {
    "collapsed": true,
    "execution": {
     "iopub.execute_input": "2024-09-20T23:24:35.739939Z",
     "iopub.status.busy": "2024-09-20T23:24:35.739761Z",
     "iopub.status.idle": "2024-09-20T23:24:36.009606Z",
     "shell.execute_reply": "2024-09-20T23:24:36.009000Z"
    },
    "ExecuteTime": {
     "end_time": "2024-09-20T23:28:33.720326Z",
     "start_time": "2024-09-20T23:28:33.715341Z"
    }
   },
   "source": [
    "import os\n",
    "import pandas as pd\n",
    "from dotenv import load_dotenv\n",
    "\n",
    "# Explicitly providing path to '.env'\n",
    "from pathlib import Path  # Python 3.6+ only\n",
    "# Load .env variables\n",
    "_ = load_dotenv(dotenv_path=f\"{Path().resolve().parents[0]}/.env\")\n",
    "\n",
    "# with the new api\n",
    "from importnb import imports\n",
    "with imports(\"ipynb\"):\n",
    "    from utils import df_to_csv, df_from_csv"
   ],
   "outputs": [],
   "execution_count": 13
  },
  {
   "cell_type": "markdown",
   "id": "4bd3e526e0b1777d",
   "metadata": {},
   "source": [
    "# Datasets"
   ]
  },
  {
   "cell_type": "markdown",
   "id": "693391107a310c66",
   "metadata": {},
   "source": [
    "## Dataset 1"
   ]
  },
  {
   "cell_type": "code",
   "id": "3e50850f2539150f",
   "metadata": {
    "execution": {
     "iopub.execute_input": "2024-09-20T23:24:36.011217Z",
     "iopub.status.busy": "2024-09-20T23:24:36.010944Z",
     "iopub.status.idle": "2024-09-20T23:24:37.497631Z",
     "shell.execute_reply": "2024-09-20T23:24:37.497018Z"
    },
    "ExecuteTime": {
     "end_time": "2024-09-20T23:28:35.241709Z",
     "start_time": "2024-09-20T23:28:33.772958Z"
    }
   },
   "source": [
    "df_tangara_dataset_1 = df_from_csv(os.getenv(\"TANGARA_DATASET_1\", None), dtindex=False)\n",
    "print(f\"Size: {df_tangara_dataset_1.size}\")\n",
    "df_tangara_dataset_1.info()\n",
    "df_tangara_dataset_1.describe()"
   ],
   "outputs": [
    {
     "name": "stderr",
     "output_type": "stream",
     "text": [
      "\u001B[32m2024-09-20 18:28:34.944\u001B[0m | \u001B[34m\u001B[1mDEBUG   \u001B[0m | \u001B[36mutils\u001B[0m:\u001B[36mdf_from_csv\u001B[0m:\u001B[36m263\u001B[0m - \u001B[34m\u001B[1mRun df_from_csv:\u001B[0m\n",
      "\u001B[32m2024-09-20 18:28:34.945\u001B[0m | \u001B[34m\u001B[1mDEBUG   \u001B[0m | \u001B[36mutils\u001B[0m:\u001B[36mdf_from_csv\u001B[0m:\u001B[36m264\u001B[0m - \u001B[34m\u001B[1mLoad DataFrame: /home/sebaxtian/Workspaces/Tangara/tangara-mlds-unal-2024/src/tangara/data/0_raw/tangara_dataset_raw_2023-08-01_00-00-00_UTC-0500_2023-08-31_23-59-59_UTC-0500.csv\u001B[0m\n"
     ]
    },
    {
     "name": "stdout",
     "output_type": "stream",
     "text": [
      "Size: 18570240\n",
      "<class 'pandas.core.frame.DataFrame'>\n",
      "RangeIndex: 1428480 entries, 0 to 1428479\n",
      "Data columns (total 13 columns):\n",
      " #   Column          Non-Null Count    Dtype  \n",
      "---  ------          --------------    -----  \n",
      " 0   Unnamed: 0      1428480 non-null  int64  \n",
      " 1   DATETIME        1428480 non-null  object \n",
      " 2   YEAR            1428480 non-null  int64  \n",
      " 3   MONTH           1428480 non-null  object \n",
      " 4   DAY_OF_WEEK     1428480 non-null  object \n",
      " 5   IS_WEEKEND      1428480 non-null  bool   \n",
      " 6   IS_HOLIDAY      1428480 non-null  bool   \n",
      " 7   SENSOR_ID       1428480 non-null  object \n",
      " 8   PM25            1210842 non-null  float64\n",
      " 9   TEMPERATURE     1210842 non-null  float64\n",
      " 10  HUMIDITY        1210842 non-null  float64\n",
      " 11  GEOLOCATION     1428480 non-null  object \n",
      " 12  CARDINAL_POINT  1428480 non-null  object \n",
      "dtypes: bool(2), float64(3), int64(2), object(6)\n",
      "memory usage: 122.6+ MB\n"
     ]
    },
    {
     "data": {
      "text/plain": [
       "         Unnamed: 0       YEAR          PM25   TEMPERATURE      HUMIDITY\n",
       "count  1.428480e+06  1428480.0  1.210842e+06  1.210842e+06  1.210842e+06\n",
       "mean   7.142395e+05     2023.0  1.071568e+01  2.953096e+01  5.825237e+01\n",
       "std    4.123668e+05        0.0  1.016375e+01  6.175346e+00  1.899643e+01\n",
       "min    0.000000e+00     2023.0  0.000000e+00  0.000000e+00  0.000000e+00\n",
       "25%    3.571198e+05     2023.0  5.000000e+00  2.730000e+01  4.752000e+01\n",
       "50%    7.142395e+05     2023.0  9.000000e+00  2.955000e+01  5.657000e+01\n",
       "75%    1.071359e+06     2023.0  1.400000e+01  3.270000e+01  6.702000e+01\n",
       "max    1.428479e+06     2023.0  2.000000e+03  4.586000e+01  9.990000e+01"
      ],
      "text/html": [
       "<div>\n",
       "<style scoped>\n",
       "    .dataframe tbody tr th:only-of-type {\n",
       "        vertical-align: middle;\n",
       "    }\n",
       "\n",
       "    .dataframe tbody tr th {\n",
       "        vertical-align: top;\n",
       "    }\n",
       "\n",
       "    .dataframe thead th {\n",
       "        text-align: right;\n",
       "    }\n",
       "</style>\n",
       "<table border=\"1\" class=\"dataframe\">\n",
       "  <thead>\n",
       "    <tr style=\"text-align: right;\">\n",
       "      <th></th>\n",
       "      <th>Unnamed: 0</th>\n",
       "      <th>YEAR</th>\n",
       "      <th>PM25</th>\n",
       "      <th>TEMPERATURE</th>\n",
       "      <th>HUMIDITY</th>\n",
       "    </tr>\n",
       "  </thead>\n",
       "  <tbody>\n",
       "    <tr>\n",
       "      <th>count</th>\n",
       "      <td>1.428480e+06</td>\n",
       "      <td>1428480.0</td>\n",
       "      <td>1.210842e+06</td>\n",
       "      <td>1.210842e+06</td>\n",
       "      <td>1.210842e+06</td>\n",
       "    </tr>\n",
       "    <tr>\n",
       "      <th>mean</th>\n",
       "      <td>7.142395e+05</td>\n",
       "      <td>2023.0</td>\n",
       "      <td>1.071568e+01</td>\n",
       "      <td>2.953096e+01</td>\n",
       "      <td>5.825237e+01</td>\n",
       "    </tr>\n",
       "    <tr>\n",
       "      <th>std</th>\n",
       "      <td>4.123668e+05</td>\n",
       "      <td>0.0</td>\n",
       "      <td>1.016375e+01</td>\n",
       "      <td>6.175346e+00</td>\n",
       "      <td>1.899643e+01</td>\n",
       "    </tr>\n",
       "    <tr>\n",
       "      <th>min</th>\n",
       "      <td>0.000000e+00</td>\n",
       "      <td>2023.0</td>\n",
       "      <td>0.000000e+00</td>\n",
       "      <td>0.000000e+00</td>\n",
       "      <td>0.000000e+00</td>\n",
       "    </tr>\n",
       "    <tr>\n",
       "      <th>25%</th>\n",
       "      <td>3.571198e+05</td>\n",
       "      <td>2023.0</td>\n",
       "      <td>5.000000e+00</td>\n",
       "      <td>2.730000e+01</td>\n",
       "      <td>4.752000e+01</td>\n",
       "    </tr>\n",
       "    <tr>\n",
       "      <th>50%</th>\n",
       "      <td>7.142395e+05</td>\n",
       "      <td>2023.0</td>\n",
       "      <td>9.000000e+00</td>\n",
       "      <td>2.955000e+01</td>\n",
       "      <td>5.657000e+01</td>\n",
       "    </tr>\n",
       "    <tr>\n",
       "      <th>75%</th>\n",
       "      <td>1.071359e+06</td>\n",
       "      <td>2023.0</td>\n",
       "      <td>1.400000e+01</td>\n",
       "      <td>3.270000e+01</td>\n",
       "      <td>6.702000e+01</td>\n",
       "    </tr>\n",
       "    <tr>\n",
       "      <th>max</th>\n",
       "      <td>1.428479e+06</td>\n",
       "      <td>2023.0</td>\n",
       "      <td>2.000000e+03</td>\n",
       "      <td>4.586000e+01</td>\n",
       "      <td>9.990000e+01</td>\n",
       "    </tr>\n",
       "  </tbody>\n",
       "</table>\n",
       "</div>"
      ]
     },
     "execution_count": 14,
     "metadata": {},
     "output_type": "execute_result"
    }
   ],
   "execution_count": 14
  },
  {
   "cell_type": "code",
   "id": "22a37a444f1bd267",
   "metadata": {
    "execution": {
     "iopub.execute_input": "2024-09-20T23:24:37.499163Z",
     "iopub.status.busy": "2024-09-20T23:24:37.498961Z",
     "iopub.status.idle": "2024-09-20T23:24:37.544461Z",
     "shell.execute_reply": "2024-09-20T23:24:37.544000Z"
    },
    "ExecuteTime": {
     "end_time": "2024-09-20T23:28:35.327291Z",
     "start_time": "2024-09-20T23:28:35.275228Z"
    }
   },
   "source": [
    "df_tangara_dataset_1.drop(columns=[\"Unnamed: 0\"], inplace=True)"
   ],
   "outputs": [],
   "execution_count": 15
  },
  {
   "cell_type": "code",
   "id": "ef329691ae359061",
   "metadata": {
    "execution": {
     "iopub.execute_input": "2024-09-20T23:24:37.546201Z",
     "iopub.status.busy": "2024-09-20T23:24:37.545832Z",
     "iopub.status.idle": "2024-09-20T23:24:37.567222Z",
     "shell.execute_reply": "2024-09-20T23:24:37.566804Z"
    },
    "ExecuteTime": {
     "end_time": "2024-09-20T23:28:35.417889Z",
     "start_time": "2024-09-20T23:28:35.382794Z"
    }
   },
   "source": [
    "df_tangara_dataset_1.sample(2)"
   ],
   "outputs": [
    {
     "data": {
      "text/plain": [
       "                         DATETIME  YEAR   MONTH DAY_OF_WEEK  IS_WEEKEND  \\\n",
       "112034  2023-08-08 21:37:00-05:00  2023  AGOSTO      MARTES       False   \n",
       "970256  2023-08-27 21:28:00-05:00  2023  AGOSTO     DOMINGO        True   \n",
       "\n",
       "        IS_HOLIDAY     SENSOR_ID  PM25  TEMPERATURE  HUMIDITY  \\\n",
       "112034       False  TANGARA_260A  12.0        31.32     46.33   \n",
       "970256       False  TANGARA_307A  10.0        29.94     53.77   \n",
       "\n",
       "                                  GEOLOCATION CARDINAL_POINT  \n",
       "112034  3.4613800048828125 -76.51222229003906  NORTE-ORIENTE  \n",
       "970256  3.3432769775390625 -76.52458190917969  SUR-OCCIDENTE  "
      ],
      "text/html": [
       "<div>\n",
       "<style scoped>\n",
       "    .dataframe tbody tr th:only-of-type {\n",
       "        vertical-align: middle;\n",
       "    }\n",
       "\n",
       "    .dataframe tbody tr th {\n",
       "        vertical-align: top;\n",
       "    }\n",
       "\n",
       "    .dataframe thead th {\n",
       "        text-align: right;\n",
       "    }\n",
       "</style>\n",
       "<table border=\"1\" class=\"dataframe\">\n",
       "  <thead>\n",
       "    <tr style=\"text-align: right;\">\n",
       "      <th></th>\n",
       "      <th>DATETIME</th>\n",
       "      <th>YEAR</th>\n",
       "      <th>MONTH</th>\n",
       "      <th>DAY_OF_WEEK</th>\n",
       "      <th>IS_WEEKEND</th>\n",
       "      <th>IS_HOLIDAY</th>\n",
       "      <th>SENSOR_ID</th>\n",
       "      <th>PM25</th>\n",
       "      <th>TEMPERATURE</th>\n",
       "      <th>HUMIDITY</th>\n",
       "      <th>GEOLOCATION</th>\n",
       "      <th>CARDINAL_POINT</th>\n",
       "    </tr>\n",
       "  </thead>\n",
       "  <tbody>\n",
       "    <tr>\n",
       "      <th>112034</th>\n",
       "      <td>2023-08-08 21:37:00-05:00</td>\n",
       "      <td>2023</td>\n",
       "      <td>AGOSTO</td>\n",
       "      <td>MARTES</td>\n",
       "      <td>False</td>\n",
       "      <td>False</td>\n",
       "      <td>TANGARA_260A</td>\n",
       "      <td>12.0</td>\n",
       "      <td>31.32</td>\n",
       "      <td>46.33</td>\n",
       "      <td>3.4613800048828125 -76.51222229003906</td>\n",
       "      <td>NORTE-ORIENTE</td>\n",
       "    </tr>\n",
       "    <tr>\n",
       "      <th>970256</th>\n",
       "      <td>2023-08-27 21:28:00-05:00</td>\n",
       "      <td>2023</td>\n",
       "      <td>AGOSTO</td>\n",
       "      <td>DOMINGO</td>\n",
       "      <td>True</td>\n",
       "      <td>False</td>\n",
       "      <td>TANGARA_307A</td>\n",
       "      <td>10.0</td>\n",
       "      <td>29.94</td>\n",
       "      <td>53.77</td>\n",
       "      <td>3.3432769775390625 -76.52458190917969</td>\n",
       "      <td>SUR-OCCIDENTE</td>\n",
       "    </tr>\n",
       "  </tbody>\n",
       "</table>\n",
       "</div>"
      ]
     },
     "execution_count": 16,
     "metadata": {},
     "output_type": "execute_result"
    }
   ],
   "execution_count": 16
  },
  {
   "cell_type": "markdown",
   "id": "4bcd376a56644559",
   "metadata": {},
   "source": [
    "## Dataset 2"
   ]
  },
  {
   "cell_type": "code",
   "id": "32fde51cae2a9b04",
   "metadata": {
    "execution": {
     "iopub.execute_input": "2024-09-20T23:24:37.568677Z",
     "iopub.status.busy": "2024-09-20T23:24:37.568514Z",
     "iopub.status.idle": "2024-09-20T23:24:39.634000Z",
     "shell.execute_reply": "2024-09-20T23:24:39.633199Z"
    },
    "ExecuteTime": {
     "end_time": "2024-09-20T23:28:37.659222Z",
     "start_time": "2024-09-20T23:28:35.465131Z"
    }
   },
   "source": [
    "df_tangara_dataset_2 = df_from_csv(os.getenv(\"TANGARA_DATASET_2\", None), dtindex=False)\n",
    "print(f\"Size: {df_tangara_dataset_2.size}\")\n",
    "df_tangara_dataset_2.info()\n",
    "df_tangara_dataset_2.describe()"
   ],
   "outputs": [
    {
     "name": "stderr",
     "output_type": "stream",
     "text": [
      "\u001B[32m2024-09-20 18:28:37.463\u001B[0m | \u001B[34m\u001B[1mDEBUG   \u001B[0m | \u001B[36mutils\u001B[0m:\u001B[36mdf_from_csv\u001B[0m:\u001B[36m263\u001B[0m - \u001B[34m\u001B[1mRun df_from_csv:\u001B[0m\n",
      "\u001B[32m2024-09-20 18:28:37.464\u001B[0m | \u001B[34m\u001B[1mDEBUG   \u001B[0m | \u001B[36mutils\u001B[0m:\u001B[36mdf_from_csv\u001B[0m:\u001B[36m264\u001B[0m - \u001B[34m\u001B[1mLoad DataFrame: /home/sebaxtian/Workspaces/Tangara/tangara-mlds-unal-2024/src/tangara/data/0_raw/tangara_dataset_raw_2024-08-01_00-00-00_UTC-0500_2024-08-31_23-59-59_UTC-0500.csv\u001B[0m\n"
     ]
    },
    {
     "name": "stdout",
     "output_type": "stream",
     "text": [
      "Size: 30176640\n",
      "<class 'pandas.core.frame.DataFrame'>\n",
      "RangeIndex: 2321280 entries, 0 to 2321279\n",
      "Data columns (total 13 columns):\n",
      " #   Column          Dtype  \n",
      "---  ------          -----  \n",
      " 0   Unnamed: 0      int64  \n",
      " 1   DATETIME        object \n",
      " 2   YEAR            int64  \n",
      " 3   MONTH           object \n",
      " 4   DAY_OF_WEEK     object \n",
      " 5   IS_WEEKEND      bool   \n",
      " 6   IS_HOLIDAY      bool   \n",
      " 7   SENSOR_ID       object \n",
      " 8   PM25            float64\n",
      " 9   TEMPERATURE     float64\n",
      " 10  HUMIDITY        float64\n",
      " 11  GEOLOCATION     object \n",
      " 12  CARDINAL_POINT  object \n",
      "dtypes: bool(2), float64(3), int64(2), object(6)\n",
      "memory usage: 199.2+ MB\n"
     ]
    },
    {
     "data": {
      "text/plain": [
       "         Unnamed: 0       YEAR          PM25   TEMPERATURE      HUMIDITY\n",
       "count  2.321280e+06  2321280.0  1.725509e+06  1.725509e+06  1.725509e+06\n",
       "mean   1.160640e+06     2024.0  1.966657e+01  3.119735e+01  5.056267e+01\n",
       "std    6.700960e+05        0.0  1.082280e+02  3.168699e+00  1.034884e+01\n",
       "min    0.000000e+00     2024.0  0.000000e+00  2.172000e+01  2.115000e+01\n",
       "25%    5.803198e+05     2024.0  7.000000e+00  2.918000e+01  4.319000e+01\n",
       "50%    1.160640e+06     2024.0  1.100000e+01  3.137000e+01  4.852000e+01\n",
       "75%    1.740959e+06     2024.0  1.600000e+01  3.310000e+01  5.641000e+01\n",
       "max    2.321279e+06     2024.0  1.296200e+04  4.404000e+01  9.196000e+01"
      ],
      "text/html": [
       "<div>\n",
       "<style scoped>\n",
       "    .dataframe tbody tr th:only-of-type {\n",
       "        vertical-align: middle;\n",
       "    }\n",
       "\n",
       "    .dataframe tbody tr th {\n",
       "        vertical-align: top;\n",
       "    }\n",
       "\n",
       "    .dataframe thead th {\n",
       "        text-align: right;\n",
       "    }\n",
       "</style>\n",
       "<table border=\"1\" class=\"dataframe\">\n",
       "  <thead>\n",
       "    <tr style=\"text-align: right;\">\n",
       "      <th></th>\n",
       "      <th>Unnamed: 0</th>\n",
       "      <th>YEAR</th>\n",
       "      <th>PM25</th>\n",
       "      <th>TEMPERATURE</th>\n",
       "      <th>HUMIDITY</th>\n",
       "    </tr>\n",
       "  </thead>\n",
       "  <tbody>\n",
       "    <tr>\n",
       "      <th>count</th>\n",
       "      <td>2.321280e+06</td>\n",
       "      <td>2321280.0</td>\n",
       "      <td>1.725509e+06</td>\n",
       "      <td>1.725509e+06</td>\n",
       "      <td>1.725509e+06</td>\n",
       "    </tr>\n",
       "    <tr>\n",
       "      <th>mean</th>\n",
       "      <td>1.160640e+06</td>\n",
       "      <td>2024.0</td>\n",
       "      <td>1.966657e+01</td>\n",
       "      <td>3.119735e+01</td>\n",
       "      <td>5.056267e+01</td>\n",
       "    </tr>\n",
       "    <tr>\n",
       "      <th>std</th>\n",
       "      <td>6.700960e+05</td>\n",
       "      <td>0.0</td>\n",
       "      <td>1.082280e+02</td>\n",
       "      <td>3.168699e+00</td>\n",
       "      <td>1.034884e+01</td>\n",
       "    </tr>\n",
       "    <tr>\n",
       "      <th>min</th>\n",
       "      <td>0.000000e+00</td>\n",
       "      <td>2024.0</td>\n",
       "      <td>0.000000e+00</td>\n",
       "      <td>2.172000e+01</td>\n",
       "      <td>2.115000e+01</td>\n",
       "    </tr>\n",
       "    <tr>\n",
       "      <th>25%</th>\n",
       "      <td>5.803198e+05</td>\n",
       "      <td>2024.0</td>\n",
       "      <td>7.000000e+00</td>\n",
       "      <td>2.918000e+01</td>\n",
       "      <td>4.319000e+01</td>\n",
       "    </tr>\n",
       "    <tr>\n",
       "      <th>50%</th>\n",
       "      <td>1.160640e+06</td>\n",
       "      <td>2024.0</td>\n",
       "      <td>1.100000e+01</td>\n",
       "      <td>3.137000e+01</td>\n",
       "      <td>4.852000e+01</td>\n",
       "    </tr>\n",
       "    <tr>\n",
       "      <th>75%</th>\n",
       "      <td>1.740959e+06</td>\n",
       "      <td>2024.0</td>\n",
       "      <td>1.600000e+01</td>\n",
       "      <td>3.310000e+01</td>\n",
       "      <td>5.641000e+01</td>\n",
       "    </tr>\n",
       "    <tr>\n",
       "      <th>max</th>\n",
       "      <td>2.321279e+06</td>\n",
       "      <td>2024.0</td>\n",
       "      <td>1.296200e+04</td>\n",
       "      <td>4.404000e+01</td>\n",
       "      <td>9.196000e+01</td>\n",
       "    </tr>\n",
       "  </tbody>\n",
       "</table>\n",
       "</div>"
      ]
     },
     "execution_count": 17,
     "metadata": {},
     "output_type": "execute_result"
    }
   ],
   "execution_count": 17
  },
  {
   "cell_type": "code",
   "id": "6ca5bb90b9df8806",
   "metadata": {
    "execution": {
     "iopub.execute_input": "2024-09-20T23:24:39.635716Z",
     "iopub.status.busy": "2024-09-20T23:24:39.635593Z",
     "iopub.status.idle": "2024-09-20T23:24:39.708818Z",
     "shell.execute_reply": "2024-09-20T23:24:39.708182Z"
    },
    "ExecuteTime": {
     "end_time": "2024-09-20T23:28:37.778679Z",
     "start_time": "2024-09-20T23:28:37.697047Z"
    }
   },
   "source": [
    "df_tangara_dataset_2.drop(columns=[\"Unnamed: 0\"], inplace=True)"
   ],
   "outputs": [],
   "execution_count": 18
  },
  {
   "cell_type": "code",
   "id": "9d9a833f06d71790",
   "metadata": {
    "execution": {
     "iopub.execute_input": "2024-09-20T23:24:39.710636Z",
     "iopub.status.busy": "2024-09-20T23:24:39.710509Z",
     "iopub.status.idle": "2024-09-20T23:24:39.747349Z",
     "shell.execute_reply": "2024-09-20T23:24:39.746626Z"
    },
    "ExecuteTime": {
     "end_time": "2024-09-20T23:28:37.877919Z",
     "start_time": "2024-09-20T23:28:37.819428Z"
    }
   },
   "source": [
    "df_tangara_dataset_2.sample(2)"
   ],
   "outputs": [
    {
     "data": {
      "text/plain": [
       "                          DATETIME  YEAR   MONTH DAY_OF_WEEK  IS_WEEKEND  \\\n",
       "1614862  2024-08-03 17:11:00-05:00  2024  AGOSTO      SÁBADO        True   \n",
       "418074   2024-08-22 03:57:00-05:00  2024  AGOSTO      JUEVES       False   \n",
       "\n",
       "         IS_HOLIDAY     SENSOR_ID   PM25  TEMPERATURE  HUMIDITY  \\\n",
       "1614862       False  TANGARA_5636  175.0        33.65     44.92   \n",
       "418074        False  TANGARA_B9CA    8.0        34.44     39.12   \n",
       "\n",
       "                                   GEOLOCATION CARDINAL_POINT  \n",
       "1614862  3.4160614013671875 -76.47926330566406    SUR-ORIENTE  \n",
       "418074   3.3982086181640625 -76.52595520019531  SUR-OCCIDENTE  "
      ],
      "text/html": [
       "<div>\n",
       "<style scoped>\n",
       "    .dataframe tbody tr th:only-of-type {\n",
       "        vertical-align: middle;\n",
       "    }\n",
       "\n",
       "    .dataframe tbody tr th {\n",
       "        vertical-align: top;\n",
       "    }\n",
       "\n",
       "    .dataframe thead th {\n",
       "        text-align: right;\n",
       "    }\n",
       "</style>\n",
       "<table border=\"1\" class=\"dataframe\">\n",
       "  <thead>\n",
       "    <tr style=\"text-align: right;\">\n",
       "      <th></th>\n",
       "      <th>DATETIME</th>\n",
       "      <th>YEAR</th>\n",
       "      <th>MONTH</th>\n",
       "      <th>DAY_OF_WEEK</th>\n",
       "      <th>IS_WEEKEND</th>\n",
       "      <th>IS_HOLIDAY</th>\n",
       "      <th>SENSOR_ID</th>\n",
       "      <th>PM25</th>\n",
       "      <th>TEMPERATURE</th>\n",
       "      <th>HUMIDITY</th>\n",
       "      <th>GEOLOCATION</th>\n",
       "      <th>CARDINAL_POINT</th>\n",
       "    </tr>\n",
       "  </thead>\n",
       "  <tbody>\n",
       "    <tr>\n",
       "      <th>1614862</th>\n",
       "      <td>2024-08-03 17:11:00-05:00</td>\n",
       "      <td>2024</td>\n",
       "      <td>AGOSTO</td>\n",
       "      <td>SÁBADO</td>\n",
       "      <td>True</td>\n",
       "      <td>False</td>\n",
       "      <td>TANGARA_5636</td>\n",
       "      <td>175.0</td>\n",
       "      <td>33.65</td>\n",
       "      <td>44.92</td>\n",
       "      <td>3.4160614013671875 -76.47926330566406</td>\n",
       "      <td>SUR-ORIENTE</td>\n",
       "    </tr>\n",
       "    <tr>\n",
       "      <th>418074</th>\n",
       "      <td>2024-08-22 03:57:00-05:00</td>\n",
       "      <td>2024</td>\n",
       "      <td>AGOSTO</td>\n",
       "      <td>JUEVES</td>\n",
       "      <td>False</td>\n",
       "      <td>False</td>\n",
       "      <td>TANGARA_B9CA</td>\n",
       "      <td>8.0</td>\n",
       "      <td>34.44</td>\n",
       "      <td>39.12</td>\n",
       "      <td>3.3982086181640625 -76.52595520019531</td>\n",
       "      <td>SUR-OCCIDENTE</td>\n",
       "    </tr>\n",
       "  </tbody>\n",
       "</table>\n",
       "</div>"
      ]
     },
     "execution_count": 19,
     "metadata": {},
     "output_type": "execute_result"
    }
   ],
   "execution_count": 19
  },
  {
   "cell_type": "markdown",
   "id": "f8ed588bb2f4b478",
   "metadata": {},
   "source": [
    "## Tangara Dataset"
   ]
  },
  {
   "cell_type": "code",
   "id": "88d75a9291be198d",
   "metadata": {
    "execution": {
     "iopub.execute_input": "2024-09-20T23:24:39.748761Z",
     "iopub.status.busy": "2024-09-20T23:24:39.748632Z",
     "iopub.status.idle": "2024-09-20T23:24:40.144469Z",
     "shell.execute_reply": "2024-09-20T23:24:40.143919Z"
    },
    "ExecuteTime": {
     "end_time": "2024-09-20T23:28:38.404373Z",
     "start_time": "2024-09-20T23:28:37.947485Z"
    }
   },
   "source": [
    "df_tangara_dataset = pd.concat([df_tangara_dataset_1, df_tangara_dataset_2], ignore_index=True)\n",
    "print(f\"Size: {df_tangara_dataset.size}\")\n",
    "df_tangara_dataset.info()\n",
    "df_tangara_dataset.describe()"
   ],
   "outputs": [
    {
     "name": "stdout",
     "output_type": "stream",
     "text": [
      "Size: 44997120\n",
      "<class 'pandas.core.frame.DataFrame'>\n",
      "RangeIndex: 3749760 entries, 0 to 3749759\n",
      "Data columns (total 12 columns):\n",
      " #   Column          Dtype  \n",
      "---  ------          -----  \n",
      " 0   DATETIME        object \n",
      " 1   YEAR            int64  \n",
      " 2   MONTH           object \n",
      " 3   DAY_OF_WEEK     object \n",
      " 4   IS_WEEKEND      bool   \n",
      " 5   IS_HOLIDAY      bool   \n",
      " 6   SENSOR_ID       object \n",
      " 7   PM25            float64\n",
      " 8   TEMPERATURE     float64\n",
      " 9   HUMIDITY        float64\n",
      " 10  GEOLOCATION     object \n",
      " 11  CARDINAL_POINT  object \n",
      "dtypes: bool(2), float64(3), int64(1), object(6)\n",
      "memory usage: 293.2+ MB\n"
     ]
    },
    {
     "data": {
      "text/plain": [
       "               YEAR          PM25   TEMPERATURE      HUMIDITY\n",
       "count  3.749760e+06  2.936351e+06  2.936351e+06  2.936351e+06\n",
       "mean   2.023619e+03  1.597555e+01  3.051020e+01  5.373361e+01\n",
       "std    4.856210e-01  8.333776e+01  4.722134e+00  1.503565e+01\n",
       "min    2.023000e+03  0.000000e+00  0.000000e+00  0.000000e+00\n",
       "25%    2.023000e+03  6.000000e+00  2.818000e+01  4.433000e+01\n",
       "50%    2.024000e+03  1.000000e+01  3.080000e+01  5.126000e+01\n",
       "75%    2.024000e+03  1.500000e+01  3.300000e+01  6.112000e+01\n",
       "max    2.024000e+03  1.296200e+04  4.586000e+01  9.990000e+01"
      ],
      "text/html": [
       "<div>\n",
       "<style scoped>\n",
       "    .dataframe tbody tr th:only-of-type {\n",
       "        vertical-align: middle;\n",
       "    }\n",
       "\n",
       "    .dataframe tbody tr th {\n",
       "        vertical-align: top;\n",
       "    }\n",
       "\n",
       "    .dataframe thead th {\n",
       "        text-align: right;\n",
       "    }\n",
       "</style>\n",
       "<table border=\"1\" class=\"dataframe\">\n",
       "  <thead>\n",
       "    <tr style=\"text-align: right;\">\n",
       "      <th></th>\n",
       "      <th>YEAR</th>\n",
       "      <th>PM25</th>\n",
       "      <th>TEMPERATURE</th>\n",
       "      <th>HUMIDITY</th>\n",
       "    </tr>\n",
       "  </thead>\n",
       "  <tbody>\n",
       "    <tr>\n",
       "      <th>count</th>\n",
       "      <td>3.749760e+06</td>\n",
       "      <td>2.936351e+06</td>\n",
       "      <td>2.936351e+06</td>\n",
       "      <td>2.936351e+06</td>\n",
       "    </tr>\n",
       "    <tr>\n",
       "      <th>mean</th>\n",
       "      <td>2.023619e+03</td>\n",
       "      <td>1.597555e+01</td>\n",
       "      <td>3.051020e+01</td>\n",
       "      <td>5.373361e+01</td>\n",
       "    </tr>\n",
       "    <tr>\n",
       "      <th>std</th>\n",
       "      <td>4.856210e-01</td>\n",
       "      <td>8.333776e+01</td>\n",
       "      <td>4.722134e+00</td>\n",
       "      <td>1.503565e+01</td>\n",
       "    </tr>\n",
       "    <tr>\n",
       "      <th>min</th>\n",
       "      <td>2.023000e+03</td>\n",
       "      <td>0.000000e+00</td>\n",
       "      <td>0.000000e+00</td>\n",
       "      <td>0.000000e+00</td>\n",
       "    </tr>\n",
       "    <tr>\n",
       "      <th>25%</th>\n",
       "      <td>2.023000e+03</td>\n",
       "      <td>6.000000e+00</td>\n",
       "      <td>2.818000e+01</td>\n",
       "      <td>4.433000e+01</td>\n",
       "    </tr>\n",
       "    <tr>\n",
       "      <th>50%</th>\n",
       "      <td>2.024000e+03</td>\n",
       "      <td>1.000000e+01</td>\n",
       "      <td>3.080000e+01</td>\n",
       "      <td>5.126000e+01</td>\n",
       "    </tr>\n",
       "    <tr>\n",
       "      <th>75%</th>\n",
       "      <td>2.024000e+03</td>\n",
       "      <td>1.500000e+01</td>\n",
       "      <td>3.300000e+01</td>\n",
       "      <td>6.112000e+01</td>\n",
       "    </tr>\n",
       "    <tr>\n",
       "      <th>max</th>\n",
       "      <td>2.024000e+03</td>\n",
       "      <td>1.296200e+04</td>\n",
       "      <td>4.586000e+01</td>\n",
       "      <td>9.990000e+01</td>\n",
       "    </tr>\n",
       "  </tbody>\n",
       "</table>\n",
       "</div>"
      ]
     },
     "execution_count": 20,
     "metadata": {},
     "output_type": "execute_result"
    }
   ],
   "execution_count": 20
  },
  {
   "cell_type": "code",
   "id": "d2514190c4ff50fd",
   "metadata": {
    "execution": {
     "iopub.execute_input": "2024-09-20T23:24:40.145872Z",
     "iopub.status.busy": "2024-09-20T23:24:40.145748Z",
     "iopub.status.idle": "2024-09-20T23:24:40.148571Z",
     "shell.execute_reply": "2024-09-20T23:24:40.147901Z"
    },
    "ExecuteTime": {
     "end_time": "2024-09-20T23:28:38.441945Z",
     "start_time": "2024-09-20T23:28:38.439819Z"
    }
   },
   "source": [
    "df_tangara_dataset.reset_index(drop=True, inplace=True)"
   ],
   "outputs": [],
   "execution_count": 21
  },
  {
   "cell_type": "code",
   "id": "a552251c88d4d4a0",
   "metadata": {
    "execution": {
     "iopub.execute_input": "2024-09-20T23:24:40.149718Z",
     "iopub.status.busy": "2024-09-20T23:24:40.149580Z",
     "iopub.status.idle": "2024-09-20T23:24:40.203402Z",
     "shell.execute_reply": "2024-09-20T23:24:40.202988Z"
    },
    "ExecuteTime": {
     "end_time": "2024-09-20T23:28:38.557166Z",
     "start_time": "2024-09-20T23:28:38.462678Z"
    }
   },
   "source": [
    "df_tangara_dataset.sample(2)"
   ],
   "outputs": [
    {
     "data": {
      "text/plain": [
       "                          DATETIME  YEAR   MONTH DAY_OF_WEEK  IS_WEEKEND  \\\n",
       "372159   2023-08-06 05:19:30-05:00  2023  AGOSTO     DOMINGO        True   \n",
       "1932560  2024-08-21 00:40:00-05:00  2024  AGOSTO   MIÉRCOLES       False   \n",
       "\n",
       "         IS_HOLIDAY     SENSOR_ID  PM25  TEMPERATURE  HUMIDITY  \\\n",
       "372159        False  TANGARA_1EE6   7.0        28.35     53.78   \n",
       "1932560       False  TANGARA_BC5A  13.0        31.55     41.76   \n",
       "\n",
       "                                   GEOLOCATION   CARDINAL_POINT  \n",
       "372159   3.4517669677734375 -76.55067443847656  NORTE-OCCIDENTE  \n",
       "1932560  3.3982086181640625 -76.52595520019531    SUR-OCCIDENTE  "
      ],
      "text/html": [
       "<div>\n",
       "<style scoped>\n",
       "    .dataframe tbody tr th:only-of-type {\n",
       "        vertical-align: middle;\n",
       "    }\n",
       "\n",
       "    .dataframe tbody tr th {\n",
       "        vertical-align: top;\n",
       "    }\n",
       "\n",
       "    .dataframe thead th {\n",
       "        text-align: right;\n",
       "    }\n",
       "</style>\n",
       "<table border=\"1\" class=\"dataframe\">\n",
       "  <thead>\n",
       "    <tr style=\"text-align: right;\">\n",
       "      <th></th>\n",
       "      <th>DATETIME</th>\n",
       "      <th>YEAR</th>\n",
       "      <th>MONTH</th>\n",
       "      <th>DAY_OF_WEEK</th>\n",
       "      <th>IS_WEEKEND</th>\n",
       "      <th>IS_HOLIDAY</th>\n",
       "      <th>SENSOR_ID</th>\n",
       "      <th>PM25</th>\n",
       "      <th>TEMPERATURE</th>\n",
       "      <th>HUMIDITY</th>\n",
       "      <th>GEOLOCATION</th>\n",
       "      <th>CARDINAL_POINT</th>\n",
       "    </tr>\n",
       "  </thead>\n",
       "  <tbody>\n",
       "    <tr>\n",
       "      <th>372159</th>\n",
       "      <td>2023-08-06 05:19:30-05:00</td>\n",
       "      <td>2023</td>\n",
       "      <td>AGOSTO</td>\n",
       "      <td>DOMINGO</td>\n",
       "      <td>True</td>\n",
       "      <td>False</td>\n",
       "      <td>TANGARA_1EE6</td>\n",
       "      <td>7.0</td>\n",
       "      <td>28.35</td>\n",
       "      <td>53.78</td>\n",
       "      <td>3.4517669677734375 -76.55067443847656</td>\n",
       "      <td>NORTE-OCCIDENTE</td>\n",
       "    </tr>\n",
       "    <tr>\n",
       "      <th>1932560</th>\n",
       "      <td>2024-08-21 00:40:00-05:00</td>\n",
       "      <td>2024</td>\n",
       "      <td>AGOSTO</td>\n",
       "      <td>MIÉRCOLES</td>\n",
       "      <td>False</td>\n",
       "      <td>False</td>\n",
       "      <td>TANGARA_BC5A</td>\n",
       "      <td>13.0</td>\n",
       "      <td>31.55</td>\n",
       "      <td>41.76</td>\n",
       "      <td>3.3982086181640625 -76.52595520019531</td>\n",
       "      <td>SUR-OCCIDENTE</td>\n",
       "    </tr>\n",
       "  </tbody>\n",
       "</table>\n",
       "</div>"
      ]
     },
     "execution_count": 22,
     "metadata": {},
     "output_type": "execute_result"
    }
   ],
   "execution_count": 22
  },
  {
   "cell_type": "code",
   "id": "a175ef50b634df5d",
   "metadata": {
    "execution": {
     "iopub.execute_input": "2024-09-20T23:24:40.205085Z",
     "iopub.status.busy": "2024-09-20T23:24:40.204796Z",
     "iopub.status.idle": "2024-09-20T23:24:48.600519Z",
     "shell.execute_reply": "2024-09-20T23:24:48.600005Z"
    },
    "ExecuteTime": {
     "end_time": "2024-09-20T23:28:47.395435Z",
     "start_time": "2024-09-20T23:28:38.592515Z"
    }
   },
   "source": [
    "# Guardamos el dataset consolidado\n",
    "df_to_csv(df_tangara_dataset, \"tangara_dataset_agosto_2023_2024.csv\")"
   ],
   "outputs": [
    {
     "name": "stderr",
     "output_type": "stream",
     "text": [
      "\u001B[32m2024-09-20 18:28:47.391\u001B[0m | \u001B[34m\u001B[1mDEBUG   \u001B[0m | \u001B[36mutils\u001B[0m:\u001B[36mdf_to_csv\u001B[0m:\u001B[36m228\u001B[0m - \u001B[34m\u001B[1mRun df_to_csv:\u001B[0m\n",
      "\u001B[32m2024-09-20 18:28:47.393\u001B[0m | \u001B[34m\u001B[1mDEBUG   \u001B[0m | \u001B[36mutils\u001B[0m:\u001B[36mdf_to_csv\u001B[0m:\u001B[36m229\u001B[0m - \u001B[34m\u001B[1mSave DataFrame: /home/sebaxtian/Workspaces/Tangara/tangara-mlds-unal-2024/src/tangara/data/0_raw/tangara_dataset_agosto_2023_2024.csv\u001B[0m\n"
     ]
    }
   ],
   "execution_count": 23
  },
  {
   "cell_type": "code",
   "id": "6478206be3f068bd",
   "metadata": {
    "execution": {
     "iopub.execute_input": "2024-09-20T23:24:48.602771Z",
     "iopub.status.busy": "2024-09-20T23:24:48.602275Z",
     "iopub.status.idle": "2024-09-20T23:24:48.606842Z",
     "shell.execute_reply": "2024-09-20T23:24:48.606262Z"
    },
    "ExecuteTime": {
     "end_time": "2024-09-20T23:28:47.471624Z",
     "start_time": "2024-09-20T23:28:47.467094Z"
    }
   },
   "source": [
    "df_tangara_dataset.shape"
   ],
   "outputs": [
    {
     "data": {
      "text/plain": [
       "(3749760, 12)"
      ]
     },
     "execution_count": 24,
     "metadata": {},
     "output_type": "execute_result"
    }
   ],
   "execution_count": 24
  }
 ],
 "metadata": {
  "kernelspec": {
   "display_name": "Python 3",
   "language": "python",
   "name": "python3"
  },
  "language_info": {
   "codemirror_mode": {
    "name": "ipython",
    "version": 3
   },
   "file_extension": ".py",
   "mimetype": "text/x-python",
   "name": "python",
   "nbconvert_exporter": "python",
   "pygments_lexer": "ipython3",
   "version": "3.10.12"
  }
 },
 "nbformat": 4,
 "nbformat_minor": 5
}
